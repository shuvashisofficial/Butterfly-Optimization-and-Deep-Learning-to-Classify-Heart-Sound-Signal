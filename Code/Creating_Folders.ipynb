{
 "cells": [
  {
   "cell_type": "code",
   "execution_count": 1,
   "metadata": {},
   "outputs": [],
   "source": [
    "import os\n",
    "import shutil\n",
    "import pandas as pd\n",
    "from sklearn.model_selection import train_test_split"
   ]
  },
  {
   "cell_type": "code",
   "execution_count": 7,
   "metadata": {},
   "outputs": [],
   "source": [
    "# Define the base directory where the training subfolders are located\n",
    "base_dir = r'D:\\MIET_HeartSound\\Dataset\\training'\n",
    "\n",
    "# Define the target dataset directory\n",
    "dataset_dir = r'D:\\MIET_HeartSound\\Dataset\\Dataset'\n",
    "train_dir = os.path.join(dataset_dir, 'train')\n",
    "val_dir = os.path.join(dataset_dir, 'val')\n",
    "\n",
    "# Define subdirectories for healthy and unhealthy in train and val\n",
    "train_healthy = os.path.join(train_dir, 'healthy')\n",
    "train_unhealthy = os.path.join(train_dir, 'unhealthy')\n",
    "val_healthy = os.path.join(val_dir, 'healthy')\n",
    "val_unhealthy = os.path.join(val_dir, 'unhealthy')\n",
    "\n",
    "# Create these directories\n",
    "os.makedirs(train_healthy, exist_ok=True)\n",
    "os.makedirs(train_unhealthy, exist_ok=True)\n",
    "os.makedirs(val_healthy, exist_ok=True)\n",
    "os.makedirs(val_unhealthy, exist_ok=True)\n"
   ]
  },
  {
   "cell_type": "code",
   "execution_count": 8,
   "metadata": {},
   "outputs": [],
   "source": [
    "# Collect all reference data from all subfolders\n",
    "all_data = pd.DataFrame(columns=['filename', 'class'])\n",
    "subfolders = ['training-a', 'training-b', 'training-c', 'training-d', 'training-e', 'training-f']"
   ]
  },
  {
   "cell_type": "code",
   "execution_count": 9,
   "metadata": {},
   "outputs": [
    {
     "name": "stdout",
     "output_type": "stream",
     "text": [
      "No reference file in training-a. Skipping.\n",
      "No reference file in training-b. Skipping.\n",
      "No reference file in training-c. Skipping.\n",
      "No reference file in training-f. Skipping.\n"
     ]
    }
   ],
   "source": [
    "for subfolder in subfolders:\n",
    "    ref_path = os.path.join(base_dir, subfolder, 'REFERENCE.csv')\n",
    "    if os.path.exists(ref_path):\n",
    "        sub_data = pd.read_csv(ref_path, header=None, names=['filename', 'class'])\n",
    "        sub_data['filepath'] = subfolder  # Add subfolder info to keep track of file locations\n",
    "        all_data = pd.concat([all_data, sub_data], ignore_index=True)\n",
    "    else:\n",
    "        print(f\"No reference file in {subfolder}. Skipping.\")"
   ]
  },
  {
   "cell_type": "code",
   "execution_count": 10,
   "metadata": {},
   "outputs": [],
   "source": [
    "# Split the data into train and validation sets\n",
    "train_data, val_data = train_test_split(all_data, test_size=0.3, stratify=all_data['class'], random_state=42)"
   ]
  },
  {
   "cell_type": "code",
   "execution_count": 11,
   "metadata": {},
   "outputs": [],
   "source": [
    "# Function to copy files based on dataset split\n",
    "def copy_files(data, train_or_val_dir):\n",
    "    for _, row in data.iterrows():\n",
    "        source_path = os.path.join(base_dir, row['filepath'], f\"{row['filename']}.wav\")\n",
    "        target_dir = os.path.join(train_or_val_dir, 'healthy' if row['class'] == '-1' else 'unhealthy')\n",
    "        if os.path.exists(source_path):\n",
    "            shutil.copy(source_path, target_dir)\n",
    "        else:\n",
    "            print(f\"File {row['filename']}.wav not found in {row['filepath']}. Skipping.\")\n"
   ]
  },
  {
   "cell_type": "code",
   "execution_count": 12,
   "metadata": {},
   "outputs": [
    {
     "data": {
      "text/plain": [
       "(     filename class    filepath\n",
       " 851    e00797    -1  training-e\n",
       " 467    e00413    -1  training-e\n",
       " 374    e00320    -1  training-e\n",
       " 1684   e01630    -1  training-e\n",
       " 206    e00152     1  training-e\n",
       " ...       ...   ...         ...\n",
       " 160    e00106    -1  training-e\n",
       " 360    e00306    -1  training-e\n",
       " 170    e00116    -1  training-e\n",
       " 961    e00907    -1  training-e\n",
       " 1535   e01481    -1  training-e\n",
       " \n",
       " [1537 rows x 3 columns],\n",
       "      filename class    filepath\n",
       " 771    e00717    -1  training-e\n",
       " 870    e00816    -1  training-e\n",
       " 243    e00189    -1  training-e\n",
       " 273    e00219    -1  training-e\n",
       " 1958   e01904    -1  training-e\n",
       " ...       ...   ...         ...\n",
       " 757    e00703     1  training-e\n",
       " 30      d0031    -1  training-d\n",
       " 1409   e01355    -1  training-e\n",
       " 1888   e01834    -1  training-e\n",
       " 610    e00556    -1  training-e\n",
       " \n",
       " [659 rows x 3 columns])"
      ]
     },
     "execution_count": 12,
     "metadata": {},
     "output_type": "execute_result"
    }
   ],
   "source": [
    "train_data, val_data"
   ]
  },
  {
   "cell_type": "code",
   "execution_count": 13,
   "metadata": {},
   "outputs": [],
   "source": [
    "# Copy training data to the appropriate directories\n",
    "copy_files(train_data, train_dir)"
   ]
  },
  {
   "cell_type": "code",
   "execution_count": 21,
   "metadata": {},
   "outputs": [
    {
     "name": "stdout",
     "output_type": "stream",
     "text": [
      "File filename.wav not found in training-f. Skipping.\n",
      "File filename.wav not found in training-c. Skipping.\n"
     ]
    }
   ],
   "source": [
    "# Copy validation data to the appropriate directories\n",
    "copy_files(val_data, val_dir)"
   ]
  }
 ],
 "metadata": {
  "kernelspec": {
   "display_name": "env_gpu",
   "language": "python",
   "name": "python3"
  },
  "language_info": {
   "codemirror_mode": {
    "name": "ipython",
    "version": 3
   },
   "file_extension": ".py",
   "mimetype": "text/x-python",
   "name": "python",
   "nbconvert_exporter": "python",
   "pygments_lexer": "ipython3",
   "version": "3.6.13"
  }
 },
 "nbformat": 4,
 "nbformat_minor": 2
}
